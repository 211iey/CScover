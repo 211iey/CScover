{
 "cells": [
  {
   "cell_type": "code",
   "execution_count": 1,
   "id": "695caa9f-4958-4767-9ed6-132cefd330b1",
   "metadata": {},
   "outputs": [],
   "source": [
    "import pandas as pd\n",
    "import numpy as np\n",
    "import matplotlib.pyplot as plt\n",
    "from statsmodels.tsa.stattools import adfuller\n",
    "from statsmodels.graphics.tsaplots import plot_acf, plot_pacf\n",
    "from statsmodels.tsa.seasonal import STL\n",
    "import matplotlib.font_manager as fm\n",
    "import seaborn as sns\n",
    "import math\n",
    "import re\n",
    "from sklearn.preprocessing import LabelEncoder"
   ]
  },
  {
   "cell_type": "code",
   "execution_count": 2,
   "id": "e0b5acc4-1d43-479d-8ed4-472dff251482",
   "metadata": {},
   "outputs": [],
   "source": [
    "# 파일 읽기\n",
    "df23 = pd.read_csv(\"C:/Users/etbae/Downloads/mainC/train_subway23.csv\")\n",
    "\n",
    "# 역 이름 인코딩\n",
    "le = LabelEncoder()\n",
    "df23['train_subway23.station_name_encoded'] = le.fit_transform(df23['train_subway23.station_name'])\n",
    "\n",
    "# 방향: 바이너리 인코딩\n",
    "df23['train_subway23.direction_bin'] = df23['train_subway23.direction'].map({'내선': 0, '상선': 0, '외선': 1, '하선': 1})\n",
    "\n",
    "# 날짜 분할\n",
    "df23['train_subway23.datetime'] = pd.to_datetime(df23['train_subway23.tm'], format='%Y%m%d%H')\n",
    "\n",
    "# 수치형 열만 선택\n",
    "numeric_cols = df23.select_dtypes(include=[np.number]).columns\n",
    "# 각 열에 대해 이상치 처리: -99 이하인 값은 NaN으로\n",
    "for col in numeric_cols:\n",
    "    df23[col] = df23[col].map(lambda x: np.nan if isinstance(x, (int, float)) and x <= -99 else x)\n",
    "# 추가 처리: wd 값이 -9.9이면 NaN\n",
    "df23['train_subway23.wd'] = df23['train_subway23.wd'].map(lambda x: np.nan if x == -9.9 else x)\n"
   ]
  },
  {
   "cell_type": "markdown",
   "id": "066c261a-12ef-49cb-8f26-434342d91e4e",
   "metadata": {},
   "source": [
    "##### * 보간 방식 선택: 사용하지 않는 방식을 주석처리 *"
   ]
  },
  {
   "cell_type": "code",
   "execution_count": 3,
   "id": "8aef6766-8d2e-4c77-a940-211a98731c11",
   "metadata": {},
   "outputs": [
    {
     "name": "stdout",
     "output_type": "stream",
     "text": [
      "train_subway23.ta        0\n",
      "train_subway23.ta_chi    0\n",
      "train_subway23.ws        0\n",
      "dtype: int64\n"
     ]
    }
   ],
   "source": [
    "# 1. 정렬 --------------------------------------------------------------\n",
    "df23 = df23.sort_values(\"train_subway23.datetime\")\n",
    "\n",
    "# 2. 대상 컬럼 ---------------------------------------------------------\n",
    "cols_to_clean = [\"train_subway23.ta\", \"train_subway23.ta_chi\", \"train_subway23.ws\"]\n",
    "\n",
    "# 3. datetime을 인덱스로 설정 ------------------------------------------\n",
    "df23 = df23.set_index(\"train_subway23.datetime\")\n",
    "\n",
    "# 4. 보간 방식 선택 (주석처리로 둘 중 하나 선택) ------------------------\n",
    "# --- 방법 1: 시간 기준 선형 보간 (index 간격 활용) ---\n",
    "df23[cols_to_clean] = df23[cols_to_clean].interpolate(method=\"time\", limit_direction=\"both\")\n",
    "\n",
    "# --- 방법 2: 3차 스플라인 보간 ---\n",
    "# df23[cols_to_clean] = df23[cols_to_clean].interpolate(method=\"spline\", order=3, limit_direction=\"both\")\n",
    "\n",
    "# 5. 인덱스 복구 -------------------------------------------------------\n",
    "df23 = df23.reset_index()\n",
    "\n",
    "# 6. 확인 --------------------------------------------------------------\n",
    "print(df23[cols_to_clean].isna().sum())  # 남은 NaN 개수\n"
   ]
  },
  {
   "cell_type": "code",
   "execution_count": 4,
   "id": "5698b0a0-79be-4231-be4d-31e6c2341568",
   "metadata": {},
   "outputs": [
    {
     "name": "stdout",
     "output_type": "stream",
     "text": [
      "train_subway23.hm    0\n",
      "dtype: int64\n"
     ]
    }
   ],
   "source": [
    "# 1. 정렬 --------------------------------------------------------------\n",
    "df23 = df23.sort_values(\"train_subway23.datetime\")\n",
    "\n",
    "# 2. 대상 컬럼 ---------------------------------------------------------\n",
    "cols_to_clean = [\"train_subway23.hm\"]\n",
    "\n",
    "# 3. datetime을 인덱스로 설정 ------------------------------------------\n",
    "df23 = df23.set_index(\"train_subway23.datetime\")\n",
    "\n",
    "# 4. 보간 방식 선택 (주석처리로 둘 중 하나 선택) ------------------------\n",
    "# --- 방법 1: 시간 기준 선형 보간 ---\n",
    "df23[cols_to_clean] = df23[cols_to_clean].interpolate(method=\"time\", limit_direction=\"both\")\n",
    "\n",
    "# --- 방법 2: 3차 스플라인 보간 ---\n",
    "# df23[cols_to_clean] = df23[cols_to_clean].interpolate(method=\"spline\", order=3, limit_direction=\"both\")\n",
    "\n",
    "# 5. 인덱스 복구 -------------------------------------------------------\n",
    "df23 = df23.reset_index()\n",
    "\n",
    "# 6. 확인 --------------------------------------------------------------\n",
    "print(df23[cols_to_clean].isna().sum())  # 남은 NaN 개수\n"
   ]
  },
  {
   "cell_type": "code",
   "execution_count": 5,
   "id": "7bc6d6a1-0f71-4d0a-af0d-8caebf6c8d8c",
   "metadata": {},
   "outputs": [
    {
     "name": "stdout",
     "output_type": "stream",
     "text": [
      "[train_subway23.rn_hr1] 결측치 남은 개수: 0\n"
     ]
    }
   ],
   "source": [
    "# 1. 대상 컬럼 ---------------------------------------------------------\n",
    "col = 'train_subway23.rn_hr1'\n",
    "\n",
    "# 2. 정렬 -------------------------------------------------------------\n",
    "df23 = df23.sort_values(\"train_subway23.datetime\")\n",
    "\n",
    "# 3. 인덱스 설정 ------------------------------------------------------\n",
    "df23 = df23.set_index('train_subway23.datetime')\n",
    "\n",
    "# 4. 결측 여부 및 마스크 정의 ------------------------------------------\n",
    "isna = df23[col].isna()\n",
    "left0 = df23[col].shift(1).fillna(0) == 0\n",
    "right0 = df23[col].shift(-1).fillna(0) == 0\n",
    "zero_mask = isna & (left0 | right0)\n",
    "interpolate_mask = isna & (~zero_mask)\n",
    "\n",
    "# 5. 결측값 처리 -------------------------------------------------------\n",
    "# (1) 양쪽이 0인 경우 → 0으로 대체\n",
    "df23.loc[zero_mask, col] = 0\n",
    "\n",
    "# (2) 나머지 → 보간\n",
    "# 보간 방식 선택 (주석처리로 둘 중 하나 선택) -------------------------\n",
    "# --- 방법 1: 시간기반 보간 ---\n",
    "df23.loc[interpolate_mask, col] = df23[col].interpolate(method='time', limit_direction='both')[interpolate_mask]\n",
    "\n",
    "# --- 방법 2: 스플라인 보간 ---\n",
    "# df23.loc[interpolate_mask, col] = df23[col].interpolate(method='spline', order=3, limit_direction='both')[interpolate_mask]\n",
    "\n",
    "# 6. 인덱스 복구 ------------------------------------------------------\n",
    "df23 = df23.reset_index()\n",
    "\n",
    "# 7. 결과 확인 --------------------------------------------------------\n",
    "missing_count = df23[col].isna().sum()\n",
    "print(f\"[{col}] 결측치 남은 개수:\", missing_count)\n"
   ]
  },
  {
   "cell_type": "code",
   "execution_count": 6,
   "id": "62c7d652-d5a5-4a06-b072-03ae6d946efd",
   "metadata": {},
   "outputs": [
    {
     "name": "stdout",
     "output_type": "stream",
     "text": [
      "[train_subway23.si] 남은 결측치 개수: 0\n"
     ]
    }
   ],
   "source": [
    "import pandas as pd\n",
    "import numpy as np\n",
    "\n",
    "# 1. 보간 대상 컬럼 및 시간정보 생성 ------------------------------\n",
    "col = 'train_subway23.si'\n",
    "\n",
    "df23['month'] = df23['train_subway23.datetime'].dt.month\n",
    "df23['hour'] = df23['train_subway23.datetime'].dt.hour\n",
    "\n",
    "# 2. 월-시 기준 NaN 비율 계산 후 밤 시간대 추정 ------------------\n",
    "threshold = 0.9  # 밤으로 간주할 NaN 비율 기준\n",
    "\n",
    "si_null_ratio = (\n",
    "    df23.groupby(['month', 'hour'])[col]\n",
    "    .apply(lambda x: x.isna().mean())\n",
    "    .reset_index(name='null_ratio')\n",
    ")\n",
    "\n",
    "# 월별 밤 시간대 목록 추출\n",
    "night_hours_by_month = (\n",
    "    si_null_ratio[si_null_ratio['null_ratio'] >= threshold]\n",
    "    .groupby('month')['hour']\n",
    "    .agg(list)\n",
    "    .to_dict()\n",
    ")\n",
    "\n",
    "# 3. 낮/밤 플래그 생성 -------------------------------------------\n",
    "def is_daytime(row):\n",
    "    return row['hour'] not in night_hours_by_month.get(row['month'], [])\n",
    "\n",
    "df23['is_daytime'] = df23.apply(is_daytime, axis=1)\n",
    "\n",
    "# 4. 밤 시간대 NaN → 0으로 대체 ----------------------------------\n",
    "df23.loc[~df23['is_daytime'] & df23[col].isna(), col] = 0\n",
    "\n",
    "# 5. 낮 시간대 NaN → 전체 보간 ------------------------------------\n",
    "# 정렬 및 인덱스 설정\n",
    "df23 = df23.sort_values(\"train_subway23.datetime\")\n",
    "df23 = df23.set_index('train_subway23.datetime')\n",
    "\n",
    "# 낮 시간대 마스크\n",
    "day_mask = df23['is_daytime'] & df23[col].isna()\n",
    "\n",
    "# 보간 방식 선택 (주석처리로 둘 중 하나 선택) ----------------------\n",
    "# --- 방법 1: 시간 기반 보간 ---\n",
    "df23.loc[day_mask, col] = df23[col].interpolate(method='time', limit_direction='both')[day_mask]\n",
    "\n",
    "# --- 방법 2: 3차 스플라인 보간 ---\n",
    "# df23.loc[day_mask, col] = df23[col].interpolate(method='spline', order=3, limit_direction='both')[day_mask]\n",
    "\n",
    "# 인덱스 복구\n",
    "df23 = df23.reset_index()\n",
    "\n",
    "# 6. 남은 결측치 확인 --------------------------------------------\n",
    "missing_count = df23[col].isna().sum()\n",
    "print(f\"[{col}] 남은 결측치 개수:\", missing_count)\n"
   ]
  },
  {
   "cell_type": "code",
   "execution_count": 7,
   "id": "f27a8413-5509-42a4-af4f-48ee787e8969",
   "metadata": {},
   "outputs": [
    {
     "name": "stdout",
     "output_type": "stream",
     "text": [
      "[train_subway23.rn_day] 남은 결측치 개수: 0\n"
     ]
    }
   ],
   "source": [
    "# 1. 날짜 컬럼 생성 --------------------------------------------------\n",
    "# (기존에 있으면 생략 가능)\n",
    "df23['date'] = df23['train_subway23.datetime'].dt.date\n",
    "\n",
    "# 2. 대상 컬럼 지정 -------------------------------------------------\n",
    "rn_day_col = 'train_subway23.rn_day'\n",
    "rn_hr1_col = 'train_subway23.rn_hr1'\n",
    "\n",
    "# 3. 일별 rn_hr1 합계 계산 ------------------------------------------\n",
    "# groupby는 필수 (일 단위 합산이 목적이므로)\n",
    "sum_rn_hr1 = (\n",
    "    df23.groupby(['train_subway23.station_name_encoded', 'train_subway23.station_number', 'date'])[rn_hr1_col]\n",
    "    .sum()\n",
    "    .reset_index()\n",
    "    .rename(columns={rn_hr1_col: 'sum_rn_hr1'})\n",
    ")\n",
    "\n",
    "# 4. 원본 데이터에 일별 합계 merge ----------------------------------\n",
    "df23 = df23.merge(\n",
    "    sum_rn_hr1,\n",
    "    on=['train_subway23.station_name_encoded', 'train_subway23.station_number', 'date'],\n",
    "    how='left'\n",
    ")\n",
    "\n",
    "# 5. rn_day 결측치 대체 --------------------------------------------\n",
    "# rn_day가 결측이면 sum_rn_hr1 값으로 대체\n",
    "mask = df23[rn_day_col].isna()\n",
    "df23.loc[mask, rn_day_col] = df23.loc[mask, 'sum_rn_hr1']\n",
    "\n",
    "# 6. 결과 확인 ------------------------------------------------------\n",
    "missing_count = df23[rn_day_col].isna().sum()\n",
    "print(f\"[{rn_day_col}] 남은 결측치 개수:\", missing_count)\n"
   ]
  },
  {
   "cell_type": "code",
   "execution_count": 8,
   "id": "a50bf1d1-46e2-4abb-b74c-59492d418277",
   "metadata": {
    "scrolled": true
   },
   "outputs": [
    {
     "name": "stderr",
     "output_type": "stream",
     "text": [
      "C:\\Users\\etbae\\anaconda3\\Lib\\site-packages\\joblib\\externals\\loky\\backend\\context.py:136: UserWarning: Could not find the number of physical cores for the following reason:\n",
      "[WinError 2] 지정된 파일을 찾을 수 없습니다\n",
      "Returning the number of logical cores instead. You can silence this warning by setting LOKY_MAX_CPU_COUNT to the number of cores you want to use.\n",
      "  warnings.warn(\n",
      "  File \"C:\\Users\\etbae\\anaconda3\\Lib\\site-packages\\joblib\\externals\\loky\\backend\\context.py\", line 257, in _count_physical_cores\n",
      "    cpu_info = subprocess.run(\n",
      "               ^^^^^^^^^^^^^^^\n",
      "  File \"C:\\Users\\etbae\\anaconda3\\Lib\\subprocess.py\", line 548, in run\n",
      "    with Popen(*popenargs, **kwargs) as process:\n",
      "         ^^^^^^^^^^^^^^^^^^^^^^^^^^^\n",
      "  File \"C:\\Users\\etbae\\anaconda3\\Lib\\subprocess.py\", line 1026, in __init__\n",
      "    self._execute_child(args, executable, preexec_fn, close_fds,\n",
      "  File \"C:\\Users\\etbae\\anaconda3\\Lib\\subprocess.py\", line 1538, in _execute_child\n",
      "    hp, ht, pid, tid = _winapi.CreateProcess(executable, args,\n",
      "                       ^^^^^^^^^^^^^^^^^^^^^^^^^^^^^^^^^^^^^^^\n"
     ]
    },
    {
     "name": "stdout",
     "output_type": "stream",
     "text": [
      "[LightGBM] [Info] Auto-choosing row-wise multi-threading, the overhead of testing was 0.017521 seconds.\n",
      "You can set `force_row_wise=true` to remove the overhead.\n",
      "And if memory is not enough, you can set `force_col_wise=true`.\n",
      "[LightGBM] [Info] Total Bins 1576\n",
      "[LightGBM] [Info] Number of data points in the train set: 4416784, number of used features: 12\n",
      "[LightGBM] [Info] Start training from score 25.032588\n",
      "모델 성능 비교:\n",
      "               Model     R²    RMSE\n",
      "            LightGBM 0.4617 15.7247\n",
      "             XGBoost 0.4932 15.2584\n",
      "HistGradientBoosting 0.4704 15.5968\n",
      "        RandomForest 0.7427 10.8716\n"
     ]
    }
   ],
   "source": [
    "from sklearn.model_selection import train_test_split\n",
    "from sklearn.metrics import r2_score, root_mean_squared_error\n",
    "from sklearn.ensemble import RandomForestRegressor, HistGradientBoostingRegressor\n",
    "import xgboost as xgb\n",
    "import lightgbm as lgb\n",
    "\n",
    "df23['day'] = df23['train_subway23.datetime'].dt.day\n",
    "\n",
    "# --- 사용자 지정 입력 변수와 타겟 -------------------------------\n",
    "target_col = \"train_subway23.congestion\"\n",
    "feature_cols = ['train_subway23.line', 'train_subway23.ta', 'train_subway23.ws', 'train_subway23.rn_hr1', 'train_subway23.hm', 'train_subway23.si',\n",
    "                'train_subway23.ta_chi', 'train_subway23.station_name_encoded', 'train_subway23.direction_bin', 'month', 'hour', 'day']  # 원하는 변수만 넣기\n",
    "\n",
    "# --- 데이터 전처리 ----------------------------------------------\n",
    "df_model = df23[feature_cols + [target_col]].dropna()\n",
    "X = df_model[feature_cols]\n",
    "y = df_model[target_col]\n",
    "\n",
    "X_train, X_test, y_train, y_test = train_test_split(X, y, test_size=0.2, shuffle=False)\n",
    "\n",
    "# --- 모델 정의 ---------------------------------------------------\n",
    "models = {\n",
    "    \"LightGBM\": lgb.LGBMRegressor(),\n",
    "    \"XGBoost\": xgb.XGBRegressor(),\n",
    "    \"HistGradientBoosting\": HistGradientBoostingRegressor(),\n",
    "    \"RandomForest\": RandomForestRegressor()\n",
    "}\n",
    "\n",
    "# --- 결과 저장 ---------------------------------------------------\n",
    "results = []\n",
    "\n",
    "for name, model in models.items():\n",
    "    model.fit(X_train, y_train)\n",
    "    y_pred = model.predict(X_test)\n",
    "    \n",
    "    r2 = r2_score(y_test, y_pred)\n",
    "    rmse = root_mean_squared_error(y_test, y_pred)\n",
    "\n",
    "    results.append({\n",
    "        \"Model\": name,\n",
    "        \"R²\": round(r2, 4),\n",
    "        \"RMSE\": round(rmse, 4)\n",
    "    })\n",
    "\n",
    "# --- 결과 출력 ----------------------------------------------------\n",
    "results_df = pd.DataFrame(results)\n",
    "print(\"모델 성능 비교:\")\n",
    "print(results_df.to_string(index=False))\n"
   ]
  },
  {
   "cell_type": "code",
   "execution_count": null,
   "id": "3bab565b-65db-4d34-b991-278b19f77b8b",
   "metadata": {},
   "outputs": [],
   "source": [
    "# csv 파일을 저장\n",
    "df23.to_csv(\"C:/Users/etbae/Downloads/train_subway23_nogroupby_time.csv\", index=False, encoding='utf-8-sig')"
   ]
  },
  {
   "cell_type": "code",
   "execution_count": 11,
   "id": "b0d91a65-9f71-4631-ba01-ad215dee8168",
   "metadata": {},
   "outputs": [],
   "source": [
    "# 요일, 시간 파생\n",
    "df23['weekday'] = df23['train_subway23.datetime'].dt.weekday  # 0=월, ..., 6=일\n",
    "df23['hour'] = df23['train_subway23.datetime'].dt.hour\n",
    "\n",
    "# 평일 여부 (월~금 = 1, 토/일 = 0)\n",
    "df23['train_subway23.is_weekday'] = df23['weekday'].apply(lambda x: 1 if x < 5 else 0)\n",
    "\n",
    "# 혼잡 시간대 여부 (출근 07–09시, 퇴근 17–19시)\n",
    "df23['train_subway23.rush_hour'] = df23['hour'].apply(lambda h: 1 if h in [7, 8, 9, 17, 18, 19] else 0)\n"
   ]
  },
  {
   "cell_type": "code",
   "execution_count": 12,
   "id": "25a92616-a15a-488c-933f-52c0bc2bb799",
   "metadata": {},
   "outputs": [],
   "source": [
    "# csv 파일을 저장\n",
    "df23.to_csv(\"C:/Users/etbae/Downloads/train_subway23_nogroupby_time_added.csv\", index=False, encoding='utf-8-sig')"
   ]
  },
  {
   "cell_type": "code",
   "execution_count": null,
   "id": "17306bc6-e465-4dd5-b41b-17e12700e6c4",
   "metadata": {},
   "outputs": [],
   "source": []
  }
 ],
 "metadata": {
  "kernelspec": {
   "display_name": "Python 3 (ipykernel)",
   "language": "python",
   "name": "python3"
  },
  "language_info": {
   "codemirror_mode": {
    "name": "ipython",
    "version": 3
   },
   "file_extension": ".py",
   "mimetype": "text/x-python",
   "name": "python",
   "nbconvert_exporter": "python",
   "pygments_lexer": "ipython3",
   "version": "3.12.7"
  }
 },
 "nbformat": 4,
 "nbformat_minor": 5
}
